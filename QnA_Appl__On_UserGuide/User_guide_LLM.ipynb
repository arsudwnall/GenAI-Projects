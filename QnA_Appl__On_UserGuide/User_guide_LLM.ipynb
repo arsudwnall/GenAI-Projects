{
 "cells": [
  {
   "cell_type": "markdown",
   "metadata": {},
   "source": [
    "## **Objective**"
   ]
  },
  {
   "cell_type": "markdown",
   "metadata": {},
   "source": [
    "Objecttive of this project is to develop a chatbot application using LLM that can answer the user queries based on the product user guide"
   ]
  },
  {
   "cell_type": "markdown",
   "metadata": {},
   "source": [
    "## **1. Data Loading, Preparation and Analysis** \n"
   ]
  },
  {
   "cell_type": "code",
   "execution_count": 1,
   "metadata": {},
   "outputs": [],
   "source": [
    "from langchain.document_loaders import PyPDFLoader\n",
    "from langchain.text_splitter import RecursiveCharacterTextSplitter\n",
    "import re\n",
    "from typing import List, Dict"
   ]
  },
  {
   "cell_type": "code",
   "execution_count": 2,
   "metadata": {},
   "outputs": [],
   "source": [
    "# Load the files as documents\n",
    "pdf_path = \"D:/Projects/UserGuide_ Chat Application/sample_software_user_guide.pdf\"\n",
    "\n",
    "# Load PDF document\n",
    "loader = PyPDFLoader(pdf_path)\n",
    "doc = loader.load()"
   ]
  },
  {
   "cell_type": "code",
   "execution_count": 3,
   "metadata": {},
   "outputs": [
    {
     "name": "stdout",
     "output_type": "stream",
     "text": [
      "Loaded 1 pages from the PDF document.\n",
      "Acme Analytics – User Guide\n",
      "1. Introduction\n",
      "Welcome to Acme Analytics, a business intelligence tool for creating dashboards, reports, and data\n",
      "visualizations. This guide will help you install, configure, and use the product effectively.\n",
      "2. System Requirements\n",
      "Operating System\n",
      "Windows 10+, macOS 11+, Linux (Ubuntu 20.04+)\n",
      "Processor\n",
      "Intel i5 or equivalent\n",
      "RAM\n",
      "8 GB minimum, 16 GB recommended\n",
      "Storage\n",
      "500 MB free disk space\n",
      "Dependencies\n",
      "Python 3.9+, Node.js 16+\n",
      "3. Installation & Setup\n",
      "- Download the installer from the official Acme Analytics website.\n",
      "- Run the installer and follow the on-screen instructions.\n",
      "- Accept the license agreement and choose an installation directory.\n",
      "- Launch the application from the Start Menu (Windows) or Applications folder (Mac).\n",
      "4. Core Features\n",
      "- Dashboard Creation – Build interactive dashboards with drag-and-drop widgets.\n",
      "- Report Generation – Export data into PDF, Excel, or CSV formats.\n",
      "- Data Integration – Connect to SQL databases, APIs, and flat files.\n",
      "- Collaboration – Share dashboards and reports with your team in real time.\n",
      "5. Troubleshooting\n",
      "App won’t start: Ensure dependencies are installed and restart your system.\n",
      "Login issues: Check internet connection and reset your password.\n",
      "Missing data: Verify database connection settings in Preferences.\n",
      "6. Support & Contact\n",
      "For additional help, contact our support team at support@acmeanalytics.example or visit our online\n",
      "knowledge base at https://docs.acmeanalytics.example.\n"
     ]
    }
   ],
   "source": [
    "print(f\"Loaded {len(doc)} pages from the PDF document.\")\n",
    "print(doc[0].page_content)  # Print content of the first page"
   ]
  },
  {
   "cell_type": "code",
   "execution_count": 4,
   "metadata": {},
   "outputs": [],
   "source": [
    "   \n",
    "#As its a user guide with specific sections using Semantic Chunking (Topic-based) \n",
    "def semantic_chunking(document:str) -> List[Dict]:\n",
    "    chunks = []\n",
    "\n",
    "    # Split user guide into semantic chunks based on numbered headings (e.g., '1. Introduction').\n",
    "    # Returns a list of dicts: { \"section\": str }\n",
    "    \n",
    "\n",
    "    # regex heading starts with number + dot+ space \n",
    "    sections = re.split(r'\\n(?=\\d+\\.\\s+)', document)\n",
    "\n",
    "    for section in sections:\n",
    "        if not section.strip():\n",
    "            continue\n",
    "\n",
    "        # Extract section title (first line)\n",
    "        lines = section.strip().split('\\n',1)\n",
    "        section_title = lines[0].strip()\n",
    "        section_body = lines[1].strip() if len(lines)>1 else \"\"\n",
    "\n",
    "        chunks.append({\n",
    "            \"section\": section_title,\n",
    "            \"content\": section_body\n",
    "        })\n",
    "    return chunks\n",
    "\n"
   ]
  },
  {
   "cell_type": "code",
   "execution_count": 5,
   "metadata": {},
   "outputs": [
    {
     "name": "stdout",
     "output_type": "stream",
     "text": [
      "[{'section': 'Acme Analytics – User Guide', 'content': ''}, {'section': '1. Introduction', 'content': 'Welcome to Acme Analytics, a business intelligence tool for creating dashboards, reports, and data\\nvisualizations. This guide will help you install, configure, and use the product effectively.'}, {'section': '2. System Requirements', 'content': 'Operating System\\nWindows 10+, macOS 11+, Linux (Ubuntu 20.04+)\\nProcessor\\nIntel i5 or equivalent\\nRAM\\n8 GB minimum, 16 GB recommended\\nStorage\\n500 MB free disk space\\nDependencies\\nPython 3.9+, Node.js 16+'}, {'section': '3. Installation & Setup', 'content': '- Download the installer from the official Acme Analytics website.\\n- Run the installer and follow the on-screen instructions.\\n- Accept the license agreement and choose an installation directory.\\n- Launch the application from the Start Menu (Windows) or Applications folder (Mac).'}, {'section': '4. Core Features', 'content': '- Dashboard Creation – Build interactive dashboards with drag-and-drop widgets.\\n- Report Generation – Export data into PDF, Excel, or CSV formats.\\n- Data Integration – Connect to SQL databases, APIs, and flat files.\\n- Collaboration – Share dashboards and reports with your team in real time.'}, {'section': '5. Troubleshooting', 'content': 'App won’t start: Ensure dependencies are installed and restart your system.\\nLogin issues: Check internet connection and reset your password.\\nMissing data: Verify database connection settings in Preferences.'}, {'section': '6. Support & Contact', 'content': 'For additional help, contact our support team at support@acmeanalytics.example or visit our online\\nknowledge base at https://docs.acmeanalytics.example.'}]\n"
     ]
    }
   ],
   "source": [
    "chunks = semantic_chunking(doc[0].page_content)\n",
    "print(chunks)\n",
    "# for c in chunks:\n",
    "#     print(f\"-- {c['section']} --\")\n",
    "#     print(c[\"content\"])\n",
    "#     print()\n",
    "\n"
   ]
  },
  {
   "cell_type": "code",
   "execution_count": 6,
   "metadata": {},
   "outputs": [],
   "source": [
    "# Vector embeddings and FAISS index creation\n",
    "from langchain.embeddings import OpenAIEmbeddings\n",
    "from langchain.vectorstores import FAISS\n",
    "import os\n",
    "from langchain.schema import Document\n",
    "from langchain.storage import LocalFileStore\n"
   ]
  },
  {
   "cell_type": "code",
   "execution_count": 7,
   "metadata": {},
   "outputs": [],
   "source": [
    "from getpass import getpass\n",
    "# Fetch your OPENAI API Key as an environment variable\n",
    "api_key = getpass(\"Enter your OpenAI API key: \")\n",
    "os.environ[\"OPENAI_API_KEY\"] = api_key\n"
   ]
  },
  {
   "cell_type": "code",
   "execution_count": 8,
   "metadata": {},
   "outputs": [
    {
     "name": "stdout",
     "output_type": "stream",
     "text": [
      "page_content='Welcome to Acme Analytics, a business intelligence tool for creating dashboards, reports, and data\n",
      "visualizations. This guide will help you install, configure, and use the product effectively.' metadata={'section': '1. Introduction'}\n"
     ]
    }
   ],
   "source": [
    "#LangChain vectorstores like FAISS, Chroma, Pinecone expect input as a list of Document objects, not plain dicts.\n",
    "#So you need to convert your chunks into Document format:\n",
    "from langchain.schema import Document\n",
    "\n",
    "langchain_chunks = [\n",
    "    Document(page_content=c[\"content\"], metadata={\"section\": c[\"section\"]})\n",
    "    for c in chunks\n",
    "]\n",
    "\n",
    "print(langchain_chunks[1])"
   ]
  },
  {
   "cell_type": "code",
   "execution_count": 9,
   "metadata": {},
   "outputs": [
    {
     "name": "stderr",
     "output_type": "stream",
     "text": [
      "C:\\Users\\Administrator\\AppData\\Local\\Temp\\ipykernel_9020\\3642759022.py:2: LangChainDeprecationWarning: The class `OpenAIEmbeddings` was deprecated in LangChain 0.0.9 and will be removed in 1.0. An updated version of the class exists in the :class:`~langchain-openai package and should be used instead. To use it run `pip install -U :class:`~langchain-openai` and import as `from :class:`~langchain_openai import OpenAIEmbeddings``.\n",
      "  embeddings  = OpenAIEmbeddings(model=\"text-embedding-3-small\")\n"
     ]
    }
   ],
   "source": [
    "# # Initialise an embedding function\n",
    "embeddings  = OpenAIEmbeddings(model=\"text-embedding-3-small\")\n",
    "\n",
    "# # Create a FAISS vector store from the documents and embeddings\n",
    "# vector_store = FAISS.from_documents(langchain_chunks, embeddings)\n",
    "\n",
    "# # Save the FAISS index to disk\n",
    "# vector_store.save_local(\"faiss_index_user_guide\")\n",
    "# print(\"FAISS index created and saved to 'faiss_index_user_guide' directory.\")"
   ]
  },
  {
   "cell_type": "code",
   "execution_count": 10,
   "metadata": {},
   "outputs": [],
   "source": [
    "#load the index from disk\n",
    "loaded_vector_store = FAISS.load_local(\"faiss_index_user_guide\", embeddings ,allow_dangerous_deserialization=True)\n"
   ]
  },
  {
   "cell_type": "markdown",
   "metadata": {},
   "source": [
    "# Create the RAG Chain "
   ]
  },
  {
   "cell_type": "code",
   "execution_count": 11,
   "metadata": {},
   "outputs": [],
   "source": [
    "# create a retriever from the vectorstore for top 3 results\n",
    "retriever = loaded_vector_store.as_retriever(search_kwargs={\"k\": 3})"
   ]
  },
  {
   "cell_type": "code",
   "execution_count": 12,
   "metadata": {},
   "outputs": [],
   "source": [
    "from langchain_openai import ChatOpenAI\n",
    "from langchain.chains import RetrievalQA"
   ]
  },
  {
   "cell_type": "code",
   "execution_count": 13,
   "metadata": {},
   "outputs": [],
   "source": [
    "llm = ChatOpenAI(model=\"gpt-4.1-nano\", temperature=0)"
   ]
  },
  {
   "cell_type": "code",
   "execution_count": 14,
   "metadata": {},
   "outputs": [],
   "source": [
    "qa_chain = RetrievalQA.from_chain_type(\n",
    "    llm=llm,\n",
    "    retriever=retriever,\n",
    "    chain_type=\"stuff\"\n",
    ")"
   ]
  },
  {
   "cell_type": "code",
   "execution_count": 15,
   "metadata": {},
   "outputs": [
    {
     "name": "stderr",
     "output_type": "stream",
     "text": [
      "C:\\Users\\Administrator\\AppData\\Local\\Temp\\ipykernel_9020\\2717349944.py:2: LangChainDeprecationWarning: The method `Chain.run` was deprecated in langchain 0.1.0 and will be removed in 1.0. Use :meth:`~invoke` instead.\n",
      "  answer = qa_chain.run(query)\n"
     ]
    },
    {
     "name": "stdout",
     "output_type": "stream",
     "text": [
      "Ensure that all dependencies are installed and then try restarting your system. If the problem persists, you may want to check for any error messages and consult the support team at support@acmeanalytics.example or visit the online knowledge base at https://docs.acmeanalytics.example for further assistance.\n"
     ]
    }
   ],
   "source": [
    "query = \"My App aint starting what to do ?\"\n",
    "answer = qa_chain.run(query)\n",
    "print(answer)"
   ]
  }
 ],
 "metadata": {
  "kernelspec": {
   "display_name": "Python 3",
   "language": "python",
   "name": "python3"
  },
  "language_info": {
   "codemirror_mode": {
    "name": "ipython",
    "version": 3
   },
   "file_extension": ".py",
   "mimetype": "text/x-python",
   "name": "python",
   "nbconvert_exporter": "python",
   "pygments_lexer": "ipython3",
   "version": "3.11.9"
  }
 },
 "nbformat": 4,
 "nbformat_minor": 2
}
